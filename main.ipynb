{
 "cells": [
  {
   "cell_type": "code",
   "execution_count": null,
   "id": "055402f2",
   "metadata": {},
   "outputs": [],
   "source": [
    "from io import StringIO\n",
    "from os import getenv\n",
    "\n",
    "from IPython.display import Image, display\n",
    "from langchain_core.messages import HumanMessage, SystemMessage\n",
    "from langchain_openai import AzureChatOpenAI\n",
    "from langgraph.graph import END, START, MessagesState, StateGraph\n",
    "from langgraph.prebuilt import ToolNode\n",
    "from pandas import read_excel"
   ]
  },
  {
   "cell_type": "code",
   "execution_count": null,
   "id": "e8ebbd13",
   "metadata": {},
   "outputs": [],
   "source": [
    "llm = AzureChatOpenAI(\n",
    "    azure_deployment=getenv(\"AZURE_OPENAI_CHAT_DEPLOYMENT_NAME\"),\n",
    "    model_version=getenv(\"OPENAI_API_VERSION\"),\n",
    "    temperature=0.25\n",
    ")"
   ]
  },
  {
   "cell_type": "code",
   "execution_count": null,
   "id": "c69dd18c",
   "metadata": {},
   "outputs": [],
   "source": [
    "class MessagesState(MessagesState):\n",
    "    excel_path: str"
   ]
  },
  {
   "cell_type": "code",
   "execution_count": null,
   "id": "fe2c5ea0",
   "metadata": {},
   "outputs": [],
   "source": [
    "def columns(excel_path: str) -> list[str]:\n",
    "    \"\"\"\n",
    "    Returns the list of column names from an Excel file.\n",
    "\n",
    "    Args:\n",
    "        excel_path (str): The path to the Excel file.\n",
    "\n",
    "    Returns:\n",
    "        list[str]: A list of column names from the Excel sheet.\n",
    "    \"\"\"\n",
    "    return \"Columns:\\n\" + read_excel(excel_path).columns.to_list().__str__()\n",
    "\n",
    "\n",
    "def information(excel_path: str) -> str:\n",
    "    \"\"\"\n",
    "    Reads an Excel file and returns a string containing a summary of its DataFrame information.\n",
    "\n",
    "    Parameters:\n",
    "        excel_path (str): The path to the Excel file to be read.\n",
    "\n",
    "    Returns:\n",
    "        str: A string representation of the DataFrame's information, including column names,\n",
    "             non-null counts, and data types.\n",
    "    \"\"\"\n",
    "    buf = StringIO()\n",
    "    read_excel(excel_path).info(buf=buf)\n",
    "    return \"Information:\\n\" + buf.getvalue()\n",
    "\n",
    "\n",
    "def description(excel_path: str) -> str:\n",
    "    \"\"\"\n",
    "    Reads an Excel file and returns a string containing descriptive statistics \n",
    "    of the numerical columns in the DataFrame.\n",
    "\n",
    "    Parameters:\n",
    "        excel_path (str): The path to the Excel file to be read.\n",
    "\n",
    "    Returns:\n",
    "        str: A string representation of the descriptive statistics, including \n",
    "             count, mean, standard deviation, min, max, and quartile values \n",
    "             for each numerical column.\n",
    "    \"\"\"\n",
    "    return \"Description:\\n\" + read_excel(excel_path).describe().to_string()\n",
    "\n",
    "\n",
    "def head(excel_path: str) -> str:\n",
    "    \"\"\"\n",
    "    Reads an Excel file and returns a string representation of the first five rows \n",
    "    of the DataFrame.\n",
    "\n",
    "    Parameters:\n",
    "        excel_path (str): The path to the Excel file to be read.\n",
    "\n",
    "    Returns:\n",
    "        str: A string showing the first five rows of the DataFrame, formatted as a table.\n",
    "    \"\"\"\n",
    "    return \"Head:\\n\" + read_excel(excel_path).head().to_string()"
   ]
  },
  {
   "cell_type": "code",
   "execution_count": null,
   "id": "2e0a4bcd",
   "metadata": {},
   "outputs": [],
   "source": [
    "llm_with_tools = llm.bind_tools([columns, information, description, head])"
   ]
  },
  {
   "cell_type": "code",
   "execution_count": null,
   "id": "ec92d17d",
   "metadata": {},
   "outputs": [],
   "source": [
    "def metadata_generator(state: MessagesState) -> MessagesState:\n",
    "    system_message = SystemMessage(\n",
    "        content=\"You will be given an excel file path. Your task is to generate the columns, information, description and head of the excel file.\"\n",
    "    )\n",
    "    return MessagesState(\n",
    "        messages=llm_with_tools.invoke(\n",
    "            (system_message +\n",
    "             HumanMessage(content=state[\"excel_path\"], name=\"Human\")).messages\n",
    "        )\n",
    "    )\n",
    "\n",
    "\n",
    "def required_plot_generator(state: MessagesState) -> MessagesState:\n",
    "    system_message = SystemMessage(\n",
    "        content=\"\"\"You are a data analyst assistant. Using the following metadata from a pandas DataFrame (df.columns, df.info(), df.describe(), and df.head()), generate a comprehensive and customized list of EDA plots.\n",
    "\n",
    "Each recommendation must:\n",
    "    1. Name the specific plot type (e.g., Histogram, Box plot, Pair plot).\n",
    "    2. Specify exact columns involved (e.g., Histogram of age, Box plot of income grouped by gender).\n",
    "    3. Justify the plot based on the data's type, distribution, presence of nulls, or potential relationships.\n",
    "\n",
    "Avoid generic suggestions; tailor each plot to the data provided.\"\"\"\n",
    "    )\n",
    "    return MessagesState(\n",
    "        messages=llm_with_tools.invoke(\n",
    "            (system_message + state[\"messages\"]).messages\n",
    "        )\n",
    "    )\n",
    "\n",
    "\n",
    "def coder(state: MessagesState) -> MessagesState:\n",
    "    system_message = SystemMessage(\n",
    "        content=\"\"\"You are a skilled Python developer focused on data wrangling and visualization. Your goal is to write clean, efficient code to create visualizations from Excel data and plot instructions.\n",
    "\n",
    "Follow these rules:\n",
    "    * Create all the plots that are requested.\n",
    "    * Use common libraries like pandas, matplotlib, seaborn, and others if needed (e.g., plotly, openpyxl, numpy).\n",
    "    * Prepare the data properly:\n",
    "        - Handle missing or inconsistent values.\n",
    "        - Convert categories to numbers when doing numeric analysis.\n",
    "        - Filter or reshape data as needed for the plots.\n",
    "    * Let the library handle layout sizes (don't set figure sizes manually).\n",
    "    * Don't add values inside heatmaps.\n",
    "    * Organize the code clearly:\n",
    "        - Use comments and good structure.\n",
    "        - Use functions where it makes sense.\n",
    "    * If the metadata is incomplete, explain any assumptions clearly in comments.\"\"\"\n",
    "    )\n",
    "    return MessagesState(\n",
    "        messages=llm_with_tools.invoke(\n",
    "            (system_message + state[\"messages\"]).messages\n",
    "        )\n",
    "    )"
   ]
  },
  {
   "cell_type": "code",
   "execution_count": null,
   "id": "9012ee1d",
   "metadata": {},
   "outputs": [],
   "source": [
    "builder = StateGraph(MessagesState)\n",
    "builder.add_node(\"metadata_generator\", metadata_generator)\n",
    "builder.add_node(\"tools\", ToolNode([columns, information, description, head]))\n",
    "builder.add_node(\"required_plot_generator\", required_plot_generator)\n",
    "builder.add_node(\"coder\", coder)\n",
    "builder.add_edge(START, \"metadata_generator\")\n",
    "builder.add_edge(\"metadata_generator\", \"tools\")\n",
    "builder.add_edge(\"tools\", \"required_plot_generator\")\n",
    "builder.add_edge(\"required_plot_generator\", \"coder\")\n",
    "builder.add_edge(\"coder\", END)\n",
    "graph = builder.compile()"
   ]
  },
  {
   "cell_type": "code",
   "execution_count": null,
   "id": "1f653852",
   "metadata": {},
   "outputs": [],
   "source": [
    "display(Image(graph.get_graph().draw_mermaid_png()))"
   ]
  },
  {
   "cell_type": "code",
   "execution_count": null,
   "id": "ab2fdf6e",
   "metadata": {},
   "outputs": [],
   "source": [
    "result = graph.invoke(MessagesState(excel_path=\"titanic_dataset.xlsx\"))"
   ]
  },
  {
   "cell_type": "code",
   "execution_count": null,
   "id": "f5c9be39",
   "metadata": {},
   "outputs": [],
   "source": [
    "print(result[\"messages\"][-1].content)"
   ]
  }
 ],
 "metadata": {
  "kernelspec": {
   "display_name": "data-visualization-using-multi-agent-ucXyTGC-",
   "language": "python",
   "name": "python3"
  },
  "language_info": {
   "codemirror_mode": {
    "name": "ipython",
    "version": 3
   },
   "file_extension": ".py",
   "mimetype": "text/x-python",
   "name": "python",
   "nbconvert_exporter": "python",
   "pygments_lexer": "ipython3",
   "version": "3.13.5"
  }
 },
 "nbformat": 4,
 "nbformat_minor": 5
}
